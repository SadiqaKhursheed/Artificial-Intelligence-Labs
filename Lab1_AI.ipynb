{
  "nbformat": 4,
  "nbformat_minor": 0,
  "metadata": {
    "colab": {
      "provenance": [],
      "collapsed_sections": []
    },
    "kernelspec": {
      "name": "python3",
      "display_name": "Python 3"
    },
    "language_info": {
      "name": "python"
    }
  },
  "cells": [
    {
      "cell_type": "code",
      "execution_count": 1,
      "metadata": {
        "colab": {
          "base_uri": "https://localhost:8080/"
        },
        "id": "aQCNV4kP5zlh",
        "outputId": "9292449e-55df-450e-b6bd-cb9087f97ce2"
      },
      "outputs": [
        {
          "output_type": "stream",
          "name": "stdout",
          "text": [
            "Enter a Number : 78\n",
            "The Number  78  is Even\n"
          ]
        }
      ],
      "source": [
        "#Activity 1\n",
        "\n",
        "num  = int(input(\"Enter a Number : \"))\n",
        "\n",
        "if (num % 2 == 0):\n",
        "  print(\"The Number \",num,\" is Even\")\n",
        "else:\n",
        "  print(\"The Number \",num,\" is Odd\")"
      ]
    },
    {
      "cell_type": "code",
      "source": [
        "# Activity 2\n",
        "\n",
        "sum = 0\n",
        "\n",
        "num = int(input(\"Enter any Number : \"))\n",
        "\n",
        "while (num != 0):\n",
        "  sum= sum+ num\n",
        "  num4 = int(input(\"Enter any Number : \"))\n",
        "\n",
        "print(\"The Sum is : \",sum)"
      ],
      "metadata": {
        "colab": {
          "base_uri": "https://localhost:8080/"
        },
        "id": "DyjExD-x6Rqd",
        "outputId": "41077fa2-d61e-4701-cc0e-e5640d3db3d1"
      },
      "execution_count": 5,
      "outputs": [
        {
          "output_type": "stream",
          "name": "stdout",
          "text": [
            "Enter any Number : 3\n",
            "Enter any Number : 4\n",
            "Enter any Number : 6\n",
            "Enter any Number : 4\n",
            "Enter any Number : 0\n",
            "The Sum is :  17\n"
          ]
        }
      ]
    },
    {
      "cell_type": "code",
      "source": [
        "# Activity 3\n",
        "\n",
        "isprime= True\n",
        "i=2\n",
        "\n",
        "number = int(input(\"Enter any Number : \"))\n",
        "while (i < number):\n",
        "  reminder = number % i\n",
        "  if (reminder == 0):\n",
        "    isprime= False\n",
        "  else:\n",
        "    i=i+1\n",
        "\n",
        "if (isprime):\n",
        "  print(\"The Number is a Prime Number\")\n",
        "else:\n",
        "  print(\"The Number is NOT a Prime Number\")"
      ],
      "metadata": {
        "colab": {
          "base_uri": "https://localhost:8080/"
        },
        "id": "guIaWxEx7b9u",
        "outputId": "7d7fc9cb-59df-46f4-a68d-353cb9af351b"
      },
      "execution_count": 7,
      "outputs": [
        {
          "output_type": "stream",
          "name": "stdout",
          "text": [
            "Enter any Number : 67\n",
            "The Number is a Prime Number\n"
          ]
        }
      ]
    },
    {
      "cell_type": "code",
      "source": [
        "# Activity 4\n",
        "\n",
        "i=0\n",
        "sum =0\n",
        "\n",
        "while(i <= 4):\n",
        "  number = int(input(\"Enter any Number : \"))\n",
        "  sum = sum+number\n",
        "  i=i+1\n",
        "\n",
        "print(sum)"
      ],
      "metadata": {
        "colab": {
          "base_uri": "https://localhost:8080/"
        },
        "id": "FBXpUZx_82TD",
        "outputId": "02822c62-7e46-4c33-8f19-7afcef0bc923"
      },
      "execution_count": 2,
      "outputs": [
        {
          "output_type": "stream",
          "name": "stdout",
          "text": [
            "Enter any Number : 2\n",
            "Enter any Number : 3\n",
            "Enter any Number : 4\n",
            "Enter any Number : 5\n",
            "Enter any Number : 7\n",
            "21\n"
          ]
        }
      ]
    },
    {
      "cell_type": "code",
      "source": [
        "# Activity 5\n",
        "\n",
        "sum =0\n",
        "i =1\n",
        "\n",
        "while (i <=10):\n",
        "  sum = sum+i\n",
        "  i= i+1\n",
        "\n",
        "print(sum)"
      ],
      "metadata": {
        "colab": {
          "base_uri": "https://localhost:8080/"
        },
        "id": "aLXw_INH0_1G",
        "outputId": "9a1e0307-c344-43a2-a686-12f4d1b9e9fd"
      },
      "execution_count": 3,
      "outputs": [
        {
          "output_type": "stream",
          "name": "stdout",
          "text": [
            "55\n"
          ]
        }
      ]
    },
    {
      "cell_type": "code",
      "source": [
        "# Activity 6\n",
        "\n",
        "name= input(\"What is Your Name? \")\n",
        "age = int(input(\"What is Your Age? \"))\n",
        "city = input(\"In which city do you Live? \")\n",
        "\n",
        "print(\"Your Introduction \")\n",
        "print(\"Welcome \"+name+ \"!\")\n",
        "print(\"Your age is : \",age)\n",
        "print(\"You live in \"+city+\" City!\")"
      ],
      "metadata": {
        "colab": {
          "base_uri": "https://localhost:8080/"
        },
        "id": "Nky22gc11cP2",
        "outputId": "7e240674-8f23-4be6-dd8a-d05afce4a884"
      },
      "execution_count": 7,
      "outputs": [
        {
          "output_type": "stream",
          "name": "stdout",
          "text": [
            "What is Your Name? sadiqa\n",
            "What is Your Age? 21\n",
            "In which city do you Live? Hazro\n",
            "Your Introduction \n",
            "Welcome sadiqa!\n",
            "Your age is :  21\n",
            "You live in Hazro City!\n"
          ]
        }
      ]
    },
    {
      "cell_type": "code",
      "source": [],
      "metadata": {
        "id": "MTHI6jUy6e4G"
      },
      "execution_count": null,
      "outputs": []
    }
  ]
}